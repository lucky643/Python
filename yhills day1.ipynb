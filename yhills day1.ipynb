{
 "cells": [
  {
   "cell_type": "code",
   "execution_count": 1,
   "id": "5aabe360",
   "metadata": {},
   "outputs": [
    {
     "name": "stdout",
     "output_type": "stream",
     "text": [
      "hello world\n"
     ]
    }
   ],
   "source": [
    "print(\"hello world\")"
   ]
  },
  {
   "cell_type": "code",
   "execution_count": 2,
   "id": "94f0c601",
   "metadata": {},
   "outputs": [
    {
     "name": "stdout",
     "output_type": "stream",
     "text": [
      "Lucky Lilhore\n"
     ]
    }
   ],
   "source": [
    "print (\"Lucky Lilhore\")"
   ]
  },
  {
   "cell_type": "code",
   "execution_count": 3,
   "id": "9cd4ff2a",
   "metadata": {},
   "outputs": [
    {
     "ename": "NameError",
     "evalue": "name 'Print' is not defined",
     "output_type": "error",
     "traceback": [
      "\u001b[1;31m---------------------------------------------------------------------------\u001b[0m",
      "\u001b[1;31mNameError\u001b[0m                                 Traceback (most recent call last)",
      "\u001b[1;32m~\\AppData\\Local\\Temp\\ipykernel_24524\\1614454650.py\u001b[0m in \u001b[0;36m<module>\u001b[1;34m\u001b[0m\n\u001b[1;32m----> 1\u001b[1;33m \u001b[0mPrint\u001b[0m\u001b[1;33m(\u001b[0m\u001b[1;34m\"lucky\"\u001b[0m\u001b[1;33m)\u001b[0m\u001b[1;33m\u001b[0m\u001b[1;33m\u001b[0m\u001b[0m\n\u001b[0m",
      "\u001b[1;31mNameError\u001b[0m: name 'Print' is not defined"
     ]
    }
   ],
   "source": [
    "Print(\"lucky\")"
   ]
  },
  {
   "cell_type": "markdown",
   "id": "1dfa6adb",
   "metadata": {},
   "source": [
    "### Python is case-sensetive language"
   ]
  },
  {
   "cell_type": "code",
   "execution_count": 5,
   "id": "b4ef57f5",
   "metadata": {},
   "outputs": [
    {
     "ename": "NameError",
     "evalue": "name 'lucky' is not defined",
     "output_type": "error",
     "traceback": [
      "\u001b[1;31m---------------------------------------------------------------------------\u001b[0m",
      "\u001b[1;31mNameError\u001b[0m                                 Traceback (most recent call last)",
      "\u001b[1;32m~\\AppData\\Local\\Temp\\ipykernel_24524\\2245598294.py\u001b[0m in \u001b[0;36m<module>\u001b[1;34m\u001b[0m\n\u001b[1;32m----> 1\u001b[1;33m \u001b[0mprint\u001b[0m \u001b[1;33m(\u001b[0m\u001b[0mlucky\u001b[0m\u001b[1;33m)\u001b[0m\u001b[1;33m\u001b[0m\u001b[1;33m\u001b[0m\u001b[0m\n\u001b[0m",
      "\u001b[1;31mNameError\u001b[0m: name 'lucky' is not defined"
     ]
    }
   ],
   "source": [
    "print (lucky)"
   ]
  },
  {
   "cell_type": "code",
   "execution_count": 6,
   "id": "5e20bd6d",
   "metadata": {},
   "outputs": [
    {
     "name": "stdout",
     "output_type": "stream",
     "text": [
      "10\n"
     ]
    }
   ],
   "source": [
    "print (10)"
   ]
  },
  {
   "cell_type": "code",
   "execution_count": 7,
   "id": "aaeeeda4",
   "metadata": {},
   "outputs": [
    {
     "name": "stdout",
     "output_type": "stream",
     "text": [
      "lucky\n"
     ]
    }
   ],
   "source": [
    "print ('lucky')"
   ]
  },
  {
   "cell_type": "markdown",
   "id": "81c26fb2",
   "metadata": {},
   "source": [
    "### String should be in inverted comma"
   ]
  },
  {
   "cell_type": "markdown",
   "id": "44909944",
   "metadata": {},
   "source": [
    "### Shortcut keys"
   ]
  },
  {
   "cell_type": "markdown",
   "id": "f3bb016b",
   "metadata": {},
   "source": [
    "#### Run -> shift+enter\n",
    "#### Add a cell above -> a\n",
    "#### Add a cell below -> b\n",
    "#### Delete a cell -> x"
   ]
  },
  {
   "cell_type": "code",
   "execution_count": 8,
   "id": "6180b465",
   "metadata": {},
   "outputs": [
    {
     "data": {
      "text/plain": [
       "int"
      ]
     },
     "execution_count": 8,
     "metadata": {},
     "output_type": "execute_result"
    }
   ],
   "source": [
    "x=10\n",
    "type(x)"
   ]
  },
  {
   "cell_type": "code",
   "execution_count": 9,
   "id": "7810350b",
   "metadata": {},
   "outputs": [
    {
     "data": {
      "text/plain": [
       "float"
      ]
     },
     "execution_count": 9,
     "metadata": {},
     "output_type": "execute_result"
    }
   ],
   "source": [
    "z=152.3\n",
    "type(z)"
   ]
  },
  {
   "cell_type": "code",
   "execution_count": 10,
   "id": "20eda7fc",
   "metadata": {},
   "outputs": [
    {
     "data": {
      "text/plain": [
       "str"
      ]
     },
     "execution_count": 10,
     "metadata": {},
     "output_type": "execute_result"
    }
   ],
   "source": [
    "course=\"Data Science\"\n",
    "type(course)"
   ]
  },
  {
   "cell_type": "code",
   "execution_count": 11,
   "id": "930b8476",
   "metadata": {},
   "outputs": [
    {
     "data": {
      "text/plain": [
       "('DS', 'BA', 'ML')"
      ]
     },
     "execution_count": 11,
     "metadata": {},
     "output_type": "execute_result"
    }
   ],
   "source": [
    "coursename=\"DS\",\"BA\",\"ML\"\n",
    "coursename"
   ]
  },
  {
   "cell_type": "code",
   "execution_count": null,
   "id": "8f43bc5c",
   "metadata": {},
   "outputs": [],
   "source": []
  }
 ],
 "metadata": {
  "kernelspec": {
   "display_name": "Python 3 (ipykernel)",
   "language": "python",
   "name": "python3"
  },
  "language_info": {
   "codemirror_mode": {
    "name": "ipython",
    "version": 3
   },
   "file_extension": ".py",
   "mimetype": "text/x-python",
   "name": "python",
   "nbconvert_exporter": "python",
   "pygments_lexer": "ipython3",
   "version": "3.9.13"
  }
 },
 "nbformat": 4,
 "nbformat_minor": 5
}
